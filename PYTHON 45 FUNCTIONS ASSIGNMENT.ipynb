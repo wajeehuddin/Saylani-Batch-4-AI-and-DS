{
 "cells": [
  {
   "cell_type": "code",
   "execution_count": 6,
   "id": "50fc5375-81f9-4d00-841d-d14d9e0c3ee9",
   "metadata": {
    "tags": []
   },
   "outputs": [
    {
     "name": "stdout",
     "output_type": "stream",
     "text": [
      "Institute Name: Saylani Mass IT Training Program \n",
      "Student Full Name: wajeeh uddin khan \n",
      "Course Name: A.I Batch-4 \n",
      "Roll number: 117746\n"
     ]
    }
   ],
   "source": [
    "# Concatination Method with **+**:\n",
    "\n",
    "first_name = \"wajeeh\"\n",
    "last_name = \"uddin khan\"\n",
    "ins_name = \"Saylani Mass IT Training Program\"\n",
    "course_name = \"A.I Batch-4\"\n",
    "roll_num = 117746\n",
    "print(\"Institute Name: \" + ins_name, \"\\nStudent Full Name: \" + first_name +' '+ last_name, \"\\nCourse Name: \" + course_name, \"\\nRoll number: \"+str(roll_num))"
   ]
  },
  {
   "cell_type": "code",
   "execution_count": 7,
   "id": "2e4586ac-8655-4f61-8bfc-e7a166859a16",
   "metadata": {
    "tags": []
   },
   "outputs": [
    {
     "name": "stdout",
     "output_type": "stream",
     "text": [
      "Institude Name: Saylani Mass IT Training Program\n",
      "Student Full Name: Dhanish Gopal\n",
      "course Name: A.I Batch-4\n",
      "Roll Number: 118222\n"
     ]
    }
   ],
   "source": [
    "# Concatination Method with **.format method**:\n",
    "\n",
    "first_name = \"Dhanish\"\n",
    "last_name = \"Gopal\"\n",
    "ins_name = \"Saylani Mass IT Training Program\"\n",
    "course_name = \"A.I Batch-4\"\n",
    "roll_num = 118222\n",
    "\n",
    "card = '''Institude Name: {}\n",
    "Student Full Name: {} {}\n",
    "course Name: {}\n",
    "Roll Number: {}'''.format(ins_name,first_name,last_name,course_name,roll_num)\n",
    "\n",
    "print(card)"
   ]
  },
  {
   "cell_type": "code",
   "execution_count": 8,
   "id": "1acfb111-7dc9-461a-9bab-6cde71516115",
   "metadata": {
    "tags": []
   },
   "outputs": [
    {
     "name": "stdout",
     "output_type": "stream",
     "text": [
      "Pakistan zindabad\n"
     ]
    }
   ],
   "source": [
    "# 1-capitalize Method\n",
    "# The method returns a new string with the first character capitalized.\n",
    "\n",
    "name = \"pakistan zindabad\"\n",
    "print(name.capitalize())"
   ]
  },
  {
   "cell_type": "code",
   "execution_count": 9,
   "id": "44b60185-973b-4dc8-95b1-44014118e2d1",
   "metadata": {
    "tags": []
   },
   "outputs": [
    {
     "name": "stdout",
     "output_type": "stream",
     "text": [
      "pakistan zindabad\n"
     ]
    }
   ],
   "source": [
    "# 2-CaseFold Method\n",
    "# The method returns a new string with all the alphabetic characters converted to lowercase.\n",
    "\n",
    "name = \"PAKISTAN ZINDABAD\"\n",
    "print(name.casefold())"
   ]
  },
  {
   "cell_type": "code",
   "execution_count": 10,
   "id": "02298391-96ac-41a3-9fd0-4e7e282be8fa",
   "metadata": {
    "tags": []
   },
   "outputs": [
    {
     "name": "stdout",
     "output_type": "stream",
     "text": [
      "                                         Pakistan zindabad                                          \n"
     ]
    }
   ],
   "source": [
    "# 3-Center Method\n",
    "# method returns a new string with the original string centered within the specified width\n",
    "\n",
    "name = \"Pakistan zindabad\"\n",
    "print(name.center(100))"
   ]
  },
  {
   "cell_type": "code",
   "execution_count": 11,
   "id": "5b3b623a-8205-4abc-9aa2-b359e7399d97",
   "metadata": {
    "tags": []
   },
   "outputs": [
    {
     "name": "stdout",
     "output_type": "stream",
     "text": [
      "4\n"
     ]
    }
   ],
   "source": [
    "# 4-Count Method\n",
    "# returns the number of occurrences of the specified substring or character.\n",
    "\n",
    "name = \"Pakistan zindabad\"\n",
    "print(name.count('a'))"
   ]
  },
  {
   "cell_type": "code",
   "execution_count": 13,
   "id": "905f9a07-e5d6-45a5-a230-aced7648e5a1",
   "metadata": {
    "tags": []
   },
   "outputs": [
    {
     "name": "stdout",
     "output_type": "stream",
     "text": [
      "b'My name is Dale Stayn'\n"
     ]
    }
   ],
   "source": [
    "# 5-encode method\n",
    "# returns an encoded version of the original string.\n",
    "\n",
    "name = \"My name is Dale Stayn\"\n",
    "print(name.encode())"
   ]
  },
  {
   "cell_type": "code",
   "execution_count": 14,
   "id": "dbb72210-e2b2-4830-903e-e2d841ff1f49",
   "metadata": {
    "tags": []
   },
   "outputs": [
    {
     "name": "stdout",
     "output_type": "stream",
     "text": [
      "False\n",
      "True\n"
     ]
    }
   ],
   "source": [
    "# 5-endswith method\n",
    "# returns a boolean value indicating whether the string ends with a specified suffix or not.\n",
    "\n",
    "name = \"Pakistan zindabad\"\n",
    "print(name.endswith('n'))\n",
    "print(name.endswith('d'))"
   ]
  },
  {
   "cell_type": "code",
   "execution_count": 15,
   "id": "c14e7c63-073e-437f-8d3c-b47e51dbfdb4",
   "metadata": {
    "tags": []
   },
   "outputs": [
    {
     "name": "stdout",
     "output_type": "stream",
     "text": [
      "True\n",
      "False\n"
     ]
    }
   ],
   "source": [
    "# 10-isalnum Method\n",
    "# used to check whether a string contains only alphanumeric characters or not.\n",
    "\n",
    "name1 = \"Pakistan123\"\n",
    "name2 = \"Pakistan!!123\"\n",
    "print(name1.isalnum())\n",
    "print(name2.isalnum())    "
   ]
  },
  {
   "cell_type": "code",
   "execution_count": 16,
   "id": "d5cd1c0d-707c-4d49-b8d2-d9b00880982e",
   "metadata": {
    "tags": []
   },
   "outputs": [
    {
     "name": "stdout",
     "output_type": "stream",
     "text": [
      "Pakistan    zindabad\n"
     ]
    }
   ],
   "source": [
    "# 6-expandtabs\n",
    "# returns a copy of the string with all tab characters (\\t) replaced by one or more spaces.\n",
    "\n",
    "name = \"Pakistan\\tzindabad\"\n",
    "print(name.expandtabs(6))"
   ]
  },
  {
   "cell_type": "code",
   "execution_count": 17,
   "id": "e0b8b3fd-05d3-4eda-a0f8-7f89b7dac507",
   "metadata": {
    "tags": []
   },
   "outputs": [
    {
     "name": "stdout",
     "output_type": "stream",
     "text": [
      "5\n",
      "9\n",
      "-1\n"
     ]
    },
    {
     "data": {
      "text/plain": [
       "5"
      ]
     },
     "execution_count": 17,
     "metadata": {},
     "output_type": "execute_result"
    }
   ],
   "source": [
    "# 7-Find method\n",
    "# returns the lowest index in the string where a specified substring is found.\n",
    "\n",
    "name = \"Pakistan zindabad\"\n",
    "print(name.find(\"t\"))      # Returns value of t at specified index\n",
    "print(name.find(\"zin\"))    # Returns value of \"z\" only at specified index\n",
    "print(name.find(\"x\"))      # Returns No value with \"-1\" as \"x\" is not found in above string\n",
    "5"
   ]
  },
  {
   "cell_type": "code",
   "execution_count": 19,
   "id": "fd20e733-6fd3-487b-9842-f5372844aa08",
   "metadata": {
    "tags": []
   },
   "outputs": [
    {
     "name": "stdout",
     "output_type": "stream",
     "text": [
      "True\n",
      "False\n"
     ]
    }
   ],
   "source": [
    "# 10-isalnum Method\n",
    "# used to check whether a string contains only alphanumeric characters or not.\n",
    "\n",
    "name1 = \"Pakistan123\"\n",
    "name2 = \"Pakistan!!123\"\n",
    "print(name1.isalnum())\n",
    "print(name2.isalnum())       # It returns false due to non-alphanumeric charachter \"!\""
   ]
  },
  {
   "cell_type": "code",
   "execution_count": 20,
   "id": "7b01afaf-9b04-4413-9b11-d69464bafa0c",
   "metadata": {
    "tags": []
   },
   "outputs": [
    {
     "name": "stdout",
     "output_type": "stream",
     "text": [
      "True\n",
      "False\n"
     ]
    }
   ],
   "source": [
    "# 12-isascii Method\n",
    "# used to check whether a string contains only ASCII characters or not.\n",
    "\n",
    "name1 = \"Pakistan\"\n",
    "name2 = \"¡Hello¡\"\n",
    "print(name1.isascii())\n",
    "print(name2.isascii())"
   ]
  },
  {
   "cell_type": "code",
   "execution_count": 21,
   "id": "11f9cad7-0a2f-4fff-974b-0066ec9627d1",
   "metadata": {
    "tags": []
   },
   "outputs": [
    {
     "name": "stdout",
     "output_type": "stream",
     "text": [
      "True\n",
      "False\n"
     ]
    }
   ],
   "source": [
    "# 13-isdecimal Method\n",
    "# used to check whether a string contains only decimal characters or not\n",
    "\n",
    "num1 = \"1234\"\n",
    "num2 = \"12.345\"\n",
    "print(num1.isdecimal())\n",
    "print(num2.isdecimal())"
   ]
  },
  {
   "cell_type": "code",
   "execution_count": 22,
   "id": "9c247700-f1e1-45de-9bc8-0fc19bafb55c",
   "metadata": {
    "tags": []
   },
   "outputs": [
    {
     "name": "stdout",
     "output_type": "stream",
     "text": [
      "True\n",
      "False\n"
     ]
    }
   ],
   "source": [
    "# 14-isdigit Method\n",
    "# used to check whether a string contains only digits or not.\n",
    "\n",
    "num1 = \"1234\"\n",
    "num2 = \"12.345\"\n",
    "print(num1.isdigit())\n",
    "print(num2.isdigit())"
   ]
  },
  {
   "cell_type": "code",
   "execution_count": 23,
   "id": "17d86045-30a0-4cc3-92fd-4ac74f56227f",
   "metadata": {
    "tags": []
   },
   "outputs": [
    {
     "name": "stdout",
     "output_type": "stream",
     "text": [
      "True\n",
      "False\n"
     ]
    }
   ],
   "source": [
    "# 15-isidentifier\n",
    "# used to check whether a string is a valid identifier or not.\n",
    "# An identifier is a sequence of characters in Python that represents a name, such as variable names, function names, class names, etc. \n",
    "# An identifier must follow certain rules, such as starting with a letter or underscore, and only containing letters, numbers, and underscores.\n",
    "\n",
    "name1 = \"my_var\"\n",
    "name2 = \"1myvar\"\n",
    "print(name1.isidentifier())\n",
    "print(name2.isidentifier())"
   ]
  },
  {
   "cell_type": "code",
   "execution_count": 24,
   "id": "3fb734da-3639-4a87-b026-5be54c4fab4b",
   "metadata": {
    "tags": []
   },
   "outputs": [
    {
     "name": "stdout",
     "output_type": "stream",
     "text": [
      "False\n",
      "True\n"
     ]
    }
   ],
   "source": [
    "# 16-islower Method\n",
    "# used to check whether all the characters in a string are lowercase or not.\n",
    "\n",
    "name1 = \"DhaNisH\"\n",
    "name2 = \"dhanish\"\n",
    "print(name1.islower())\n",
    "print(name2.islower())"
   ]
  },
  {
   "cell_type": "code",
   "execution_count": 25,
   "id": "c0ead5fd-db52-4429-a6cc-5e90d1670ac1",
   "metadata": {
    "tags": []
   },
   "outputs": [
    {
     "name": "stdout",
     "output_type": "stream",
     "text": [
      "I am from Sweden\n",
      "I am from India\n",
      "I am from Pakistan\n",
      "I am from Brazil\n"
     ]
    }
   ],
   "source": [
    "def my_function(country = \"Pakistan\"):\n",
    "  print(\"I am from \" + country)\n",
    "\n",
    "my_function(\"Sweden\")\n",
    "my_function(\"India\")\n",
    "my_function()\n",
    "my_function(\"Brazil\")"
   ]
  },
  {
   "cell_type": "code",
   "execution_count": 27,
   "id": "607348db-06fb-4dbb-a96d-175277ea8f6d",
   "metadata": {
    "tags": []
   },
   "outputs": [
    {
     "name": "stdout",
     "output_type": "stream",
     "text": [
      "True\n",
      "False\n"
     ]
    }
   ],
   "source": [
    "# 17-isnumeric\n",
    "# used to check whether all the characters in a string are numeric characters or not.\n",
    "\n",
    "num1 = \"1234\"\n",
    "num2 = \"12.345\"\n",
    "\n",
    "print(num1.isnumeric())\n",
    "print(num2.isnumeric())"
   ]
  },
  {
   "cell_type": "code",
   "execution_count": 28,
   "id": "229dd340-868a-4ccd-814e-0b08e48b2d3a",
   "metadata": {
    "tags": []
   },
   "outputs": [
    {
     "name": "stdout",
     "output_type": "stream",
     "text": [
      "\n",
      "\n",
      "Recursion Example Results\n",
      "1\n",
      "3\n",
      "6\n",
      "10\n",
      "15\n",
      "21\n"
     ]
    },
    {
     "data": {
      "text/plain": [
       "21"
      ]
     },
     "execution_count": 28,
     "metadata": {},
     "output_type": "execute_result"
    }
   ],
   "source": [
    "# Recursion is a common mathematical and programming concept. It means that a function calls itself. This has the benefit of meaning that you can loop through data to reach a result.\n",
    "# In this example, tri_recursion() is a function that we have defined to call itself (\"recurse\"). We use the k variable as the data, which decrements (-1) every time we recurse. The recursion ends when the condition is not greater than 0 (i.e. when it is 0).\n",
    "def tri_recursion(k):\n",
    "  if(k > 0):\n",
    "    result = k + tri_recursion(k - 1)\n",
    "    print(result)\n",
    "  else:\n",
    "    result = 0\n",
    "  return result\n",
    "\n",
    "print(\"\\n\\nRecursion Example Results\")\n",
    "tri_recursion(6)"
   ]
  },
  {
   "cell_type": "code",
   "execution_count": 29,
   "id": "54b2ef71-ad21-41cd-b66a-3a19052f055e",
   "metadata": {
    "tags": []
   },
   "outputs": [
    {
     "name": "stdout",
     "output_type": "stream",
     "text": [
      "True\n",
      "False\n"
     ]
    }
   ],
   "source": [
    "# 18-isprintable Method\n",
    "# used to check whether all the characters in a string are printable or not.\n",
    "\n",
    "n = \"Hellow World\"\n",
    "m = \"Hellow \\n World\"\n",
    "print(n.isprintable())\n",
    "print(m.isprintable())"
   ]
  },
  {
   "cell_type": "code",
   "execution_count": 30,
   "id": "114e9092-f0d7-4c43-8ef5-dffe03246fd6",
   "metadata": {
    "tags": []
   },
   "outputs": [
    {
     "name": "stdout",
     "output_type": "stream",
     "text": [
      "False\n",
      "True\n",
      "False\n"
     ]
    }
   ],
   "source": [
    "# 19-isspace Method\n",
    "# used to check whether all the characters in a string are whitespace characters or not.\n",
    "\n",
    "n = \"Hellow World\"\n",
    "m = \"\\t\\n\"\n",
    "p = \"\"\n",
    "\n",
    "print(n.isspace())\n",
    "print(m.isspace())\n",
    "print(p.isspace())"
   ]
  },
  {
   "cell_type": "code",
   "execution_count": 31,
   "id": "0f64a9cf-8f44-4467-aa10-a91a13e98955",
   "metadata": {
    "tags": []
   },
   "outputs": [
    {
     "name": "stdout",
     "output_type": "stream",
     "text": [
      "True\n",
      "False\n"
     ]
    }
   ],
   "source": [
    "# 20-istitle Method\n",
    "# used to check whether a string is a titlecased string or not.\n",
    "# A titlecased string is a string where the first letter of each word is capitalized and all other letters are lowercase.\n",
    "\n",
    "n = \"The Pakistan\"\n",
    "m = \"the pakistan\"\n",
    "\n",
    "print(n.istitle())\n",
    "print(m.istitle())"
   ]
  },
  {
   "cell_type": "code",
   "execution_count": 32,
   "id": "2a683d50-83c2-4ab7-a8d9-0253d7480b60",
   "metadata": {
    "tags": []
   },
   "outputs": [
    {
     "name": "stdout",
     "output_type": "stream",
     "text": [
      "False\n",
      "True\n"
     ]
    }
   ],
   "source": [
    "# 21-isupper Method\n",
    "# used to check whether all the alphabetic characters in a string are uppercase or not.\n",
    "\n",
    "n = \"hellow world\"\n",
    "m = \"HELLOW WORLD\"\n",
    "\n",
    "print(n.isupper())\n",
    "print(m.isupper())"
   ]
  },
  {
   "cell_type": "code",
   "execution_count": 33,
   "id": "43c29911-c97e-43d1-a443-42804c3fbf26",
   "metadata": {
    "tags": []
   },
   "outputs": [
    {
     "name": "stdout",
     "output_type": "stream",
     "text": [
      "P,a,k,i,s,t,a,n\n"
     ]
    }
   ],
   "source": [
    "# 22-join Method\n",
    "# used to join a sequence of strings together into a single string, using a specified separator string.\n",
    "\n",
    "separator = \",\"\n",
    "name = \"Pakistan\"\n",
    "\n",
    "print(separator.join(name))"
   ]
  },
  {
   "cell_type": "code",
   "execution_count": 34,
   "id": "a7929314-b28a-458a-9458-68af80e1fbc6",
   "metadata": {
    "tags": []
   },
   "outputs": [
    {
     "name": "stdout",
     "output_type": "stream",
     "text": [
      "15\n"
     ]
    }
   ],
   "source": [
    "x = lambda a : a + 10\n",
    "print(x(5))"
   ]
  },
  {
   "cell_type": "code",
   "execution_count": 35,
   "id": "1dc952d0-3a5e-44aa-b936-e4926048a13a",
   "metadata": {
    "tags": []
   },
   "outputs": [
    {
     "name": "stdout",
     "output_type": "stream",
     "text": [
      "Hello!!!!!\n"
     ]
    }
   ],
   "source": [
    "# 23-ljust Method\n",
    "# used to left justify a string within a specified width by padding it with a specified character on the right.\n",
    "\n",
    "name = \"Hello\"\n",
    "print(name.ljust(10,'!'))"
   ]
  },
  {
   "cell_type": "code",
   "execution_count": 37,
   "id": "29e054dc-143a-4f0b-b7d1-ecde00f59489",
   "metadata": {
    "tags": []
   },
   "outputs": [
    {
     "name": "stdout",
     "output_type": "stream",
     "text": [
      "wajeeh uddin khan\n"
     ]
    }
   ],
   "source": [
    "# 24-lower Method\n",
    "# used to convert all the alphabetic characters in a string to lowercase.\n",
    "\n",
    "name = \"wajeeh uddin khan\"\n",
    "print(name.lower())"
   ]
  },
  {
   "cell_type": "code",
   "execution_count": 39,
   "id": "e6a7abeb-1ffe-4a9a-88b6-7922da8c9243",
   "metadata": {
    "tags": []
   },
   "outputs": [
    {
     "name": "stdout",
     "output_type": "stream",
     "text": [
      "wajeeh    !!\n"
     ]
    }
   ],
   "source": [
    " # 25-lstrip Method\n",
    "# used to remove leading whitespace characters from a string.\n",
    "\n",
    "name = \"    wajeeh    !!\"\n",
    "print(name.lstrip())"
   ]
  },
  {
   "cell_type": "code",
   "execution_count": 40,
   "id": "ced57996-28a7-44e7-a8bc-1d0dc6f327f0",
   "metadata": {
    "tags": []
   },
   "outputs": [
    {
     "name": "stdout",
     "output_type": "stream",
     "text": [
      "Hipp Wrpd\n"
     ]
    }
   ],
   "source": [
    "# 26-maketrans Method\n",
    "# used to create a translation table that can be used by the translate() method to replace specified characters in a string.\n",
    "\n",
    "name = \"Hello World\"\n",
    "n = name.maketrans('el','ip','o')\n",
    "m = name.translate(n)\n",
    "print(m)\n",
    "      "
   ]
  },
  {
   "cell_type": "code",
   "execution_count": 41,
   "id": "2fcd47e8-de4a-4f7d-a72c-bc8d797fae34",
   "metadata": {
    "tags": []
   },
   "outputs": [
    {
     "name": "stdout",
     "output_type": "stream",
     "text": [
      "('Welcome', ',', ' Mr.Dhanish')\n"
     ]
    }
   ],
   "source": [
    "# 27-partition Method\n",
    "# used to split a string into three parts based on a specified separator.\n",
    "\n",
    "name = \"Welcome, Mr.Dhanish\"\n",
    "print(name.partition(','))"
   ]
  },
  {
   "cell_type": "code",
   "execution_count": 42,
   "id": "ec16050e-c0a5-4628-9bda-52ac19b1f5d5",
   "metadata": {
    "tags": []
   },
   "outputs": [
    {
     "name": "stdout",
     "output_type": "stream",
     "text": [
      " World\n"
     ]
    }
   ],
   "source": [
    "# 28-removeprefix Method\n",
    "# used to remove a specified prefix from a string(If start with specified string).\n",
    "\n",
    "name = \"Hello World\"\n",
    "print(name.removeprefix('Hello'))"
   ]
  },
  {
   "cell_type": "code",
   "execution_count": 44,
   "id": "74aece57-9e1c-4147-b178-0228c1dc41b8",
   "metadata": {
    "tags": []
   },
   "outputs": [
    {
     "name": "stdout",
     "output_type": "stream",
     "text": [
      "Hello \n"
     ]
    }
   ],
   "source": [
    " #29-removesuffix Method\n",
    "# used to remove a specified suffix from a string. \n",
    "# If the string ends with the specified suffix, the suffix is removed and the modified string is returned.\n",
    "\n",
    "name = \"Hello World\"\n",
    "print(name.removesuffix(\"World\"))"
   ]
  },
  {
   "cell_type": "code",
   "execution_count": 45,
   "id": "c64701ee-0864-4a92-a656-65d91f253eaa",
   "metadata": {
    "tags": []
   },
   "outputs": [
    {
     "name": "stdout",
     "output_type": "stream",
     "text": [
      "Hello Universe\n"
     ]
    }
   ],
   "source": [
    "# 30-replace Method\n",
    "# used to replace all occurrences of a specified substring in a string with another substring.\n",
    "\n",
    "name = \"Hello World\"\n",
    "print(name.replace(\"World\",\"Universe\"))"
   ]
  },
  {
   "cell_type": "code",
   "execution_count": 46,
   "id": "f1e2d77a-aecf-4374-ab85-32340f5d8efb",
   "metadata": {
    "tags": []
   },
   "outputs": [
    {
     "name": "stdout",
     "output_type": "stream",
     "text": [
      "7\n",
      "1\n",
      "-1\n"
     ]
    }
   ],
   "source": [
    "# 31-rfind Method\n",
    "# returns the highest index in the string where a specified substring is found. \n",
    "# The method searches the string from right to left, starting from the specified position, and returns -1 if the substring is not found.\n",
    "\n",
    "name = \"Hello World\"\n",
    "print(name.rfind(\"o\"))\n",
    "print(name.rfind(\"e\"))\n",
    "print(name.rfind(\"z\"))"
   ]
  },
  {
   "cell_type": "code",
   "execution_count": 48,
   "id": "3e953aad-3713-45e8-b6e1-b44e8f0d3aa5",
   "metadata": {
    "tags": []
   },
   "outputs": [
    {
     "name": "stdout",
     "output_type": "stream",
     "text": [
      "4\n",
      "1\n",
      "-1\n"
     ]
    }
   ],
   "source": [
    "# 32-find Method\n",
    "name = \"Hello World\"\n",
    "print(name.find(\"o\"))\n",
    "print(name.find(\"e\"))\n",
    "print(name.find(\"z\"))"
   ]
  },
  {
   "cell_type": "code",
   "execution_count": 49,
   "id": "f7c79f05-d13b-4bd6-adc7-ec1a0dd14520",
   "metadata": {
    "tags": []
   },
   "outputs": [
    {
     "name": "stdout",
     "output_type": "stream",
     "text": [
      "     Hello\n",
      "-----Hello\n"
     ]
    }
   ],
   "source": [
    "# 33-rjust Method\n",
    "# returns a right-justified version of a given string by padding it with a specified character (or space) on the left side. \n",
    "# This method returns a new string and does not modify the original string.\n",
    "\n",
    "name = \"Hello\"\n",
    "print(name.rjust(10))\n",
    "print(name.rjust(10,'-'))"
   ]
  },
  {
   "cell_type": "code",
   "execution_count": 50,
   "id": "7c1a866a-e747-4011-a1de-98f9ec6518b1",
   "metadata": {
    "tags": []
   },
   "outputs": [
    {
     "name": "stdout",
     "output_type": "stream",
     "text": [
      "('apple,banana', ',', 'mango')\n"
     ]
    }
   ],
   "source": [
    "# 34-rpartition Method\n",
    "# separates the given string into three parts using a separator (also called a delimiter) specified as an argument. \n",
    "# The separation occurs from the right side of the string.\n",
    "\n",
    "n = \"apple,banana,mango\"\n",
    "print(n.rpartition(\",\"))"
   ]
  },
  {
   "cell_type": "code",
   "execution_count": 51,
   "id": "22050bd8-b9da-451b-8e9e-e0ebe11719d0",
   "metadata": {
    "tags": []
   },
   "outputs": [
    {
     "name": "stdout",
     "output_type": "stream",
     "text": [
      "['Hello', 'World']\n"
     ]
    }
   ],
   "source": [
    "# 35-rsplit Method\n",
    "# splits a given string into a list of substrings, starting from the right side of the string, using a specified separator (also called a delimiter). \n",
    "# If no separator is specified, the method splits the string at whitespace characters (spaces, tabs, and newlines)\n",
    "\n",
    "name = \"Hello World\"\n",
    "print(name.rsplit())"
   ]
  },
  {
   "cell_type": "code",
   "execution_count": 52,
   "id": "fcbba9b9-1ab0-4d7e-a513-db1ab25bdc44",
   "metadata": {
    "tags": []
   },
   "outputs": [
    {
     "name": "stdout",
     "output_type": "stream",
     "text": [
      "Hello World\n"
     ]
    }
   ],
   "source": [
    "# 36-rstrip Method\n",
    "# returns a new string with trailing whitespace characters (spaces, tabs, and newlines) removed from the right side of the original string.\n",
    "\n",
    "name = \"Hello World!!\"\n",
    "print(name.rstrip('!'))"
   ]
  },
  {
   "cell_type": "code",
   "execution_count": 53,
   "id": "70b1f0e7-7b41-46c7-ad71-04193d81272d",
   "metadata": {
    "tags": []
   },
   "outputs": [
    {
     "name": "stdout",
     "output_type": "stream",
     "text": [
      "['Hello', 'World']\n"
     ]
    }
   ],
   "source": [
    "# 37-split Method\n",
    "# splits a given string into a list of substrings, using a specified separator (also called a delimiter). If no separator is specified, the method splits the string at whitespace characters (spaces, tabs, and newlines).\n",
    "\n",
    "name = \"   Hello World  \"\n",
    "print(name.split())"
   ]
  },
  {
   "cell_type": "code",
   "execution_count": 54,
   "id": "1a57861b-5f97-4cea-bd6a-41996f336928",
   "metadata": {
    "tags": []
   },
   "outputs": [
    {
     "name": "stdout",
     "output_type": "stream",
     "text": [
      "['Hello', 'World', 'Goodnight']\n"
     ]
    }
   ],
   "source": [
    "# 38-splitlines Method\n",
    "# splits a given string into a list of substrings, using the newline character(s) (\\n, \\r, and \\r\\n) as the delimiter.\n",
    "\n",
    "name = \"Hello\\nWorld\\nGoodnight\"\n",
    "print(name.splitlines())"
   ]
  },
  {
   "cell_type": "code",
   "execution_count": 55,
   "id": "8cbe383f-acc4-41fc-bef9-726d37ba9419",
   "metadata": {
    "tags": []
   },
   "outputs": [
    {
     "name": "stdout",
     "output_type": "stream",
     "text": [
      "True\n",
      "False\n"
     ]
    }
   ],
   "source": [
    "# 39-startswith Method\n",
    "# returns a boolean value indicating whether a given string starts with a specified prefix.\n",
    "\n",
    "name = \"Dhanish Gopal\"\n",
    "print(name.startswith('Dhanish'))\n",
    "print(name.startswith('Gopal'))"
   ]
  },
  {
   "cell_type": "code",
   "execution_count": 56,
   "id": "207b0aab-48e6-4e5d-8d5f-766bb824aeef",
   "metadata": {
    "tags": []
   },
   "outputs": [
    {
     "name": "stdout",
     "output_type": "stream",
     "text": [
      "Dale steyn!\n"
     ]
    }
   ],
   "source": [
    "# 40-strip Method\n",
    "# returns a new string with any leading or trailing whitespace removed.\n",
    "\n",
    "name = \"   \\t\\nDale steyn!  \"\n",
    "print(name.strip())"
   ]
  },
  {
   "cell_type": "code",
   "execution_count": 57,
   "id": "dfa3885d-cf63-418a-ab34-eedeb1624a62",
   "metadata": {
    "tags": []
   },
   "outputs": [
    {
     "name": "stdout",
     "output_type": "stream",
     "text": [
      "dAVID wARNER\n",
      "hello world\n"
     ]
    }
   ],
   "source": [
    "# 41-swapcase Method\n",
    "# returns a new string where all the uppercase characters are converted to lowercase and vice versa\n",
    "\n",
    "name = \"David Warner\"\n",
    "print(name.swapcase())\n",
    "\n",
    "n = \"HELLO WORLD\"\n",
    "print(n.swapcase())"
   ]
  },
  {
   "cell_type": "code",
   "execution_count": 58,
   "id": "67542770-c946-4e6a-9e92-6d6e0749f5ac",
   "metadata": {
    "tags": []
   },
   "outputs": [
    {
     "name": "stdout",
     "output_type": "stream",
     "text": [
      "Dinesg Karthik\n"
     ]
    }
   ],
   "source": [
    "# 42-title Method\n",
    "# returns a new string with the first character of each word in uppercase and the rest of the characters in lowercase.\n",
    "\n",
    "name = \"Dinesg karthik\"\n",
    "print(name.title())"
   ]
  },
  {
   "cell_type": "code",
   "execution_count": 59,
   "id": "35ddbb72-4932-4d1d-bb53-9e799d361c9f",
   "metadata": {
    "tags": []
   },
   "outputs": [
    {
     "name": "stdout",
     "output_type": "stream",
     "text": [
      "Hipp Wrpd\n"
     ]
    }
   ],
   "source": [
    "# 43-translate Method\n",
    "# returns a string where some specified characters are replaced with the character described in a dictionary, or in a mapping table.\n",
    "\n",
    "name = \"Hello World\"\n",
    "n = name.maketrans('el','ip','o')\n",
    "m = name.translate(n)\n",
    "print(m)"
   ]
  },
  {
   "cell_type": "code",
   "execution_count": 60,
   "id": "48f26146-f18c-41bf-ac13-8aa06ae6bd13",
   "metadata": {
    "tags": []
   },
   "outputs": [
    {
     "name": "stdout",
     "output_type": "stream",
     "text": [
      "DANIEL VETTORI\n"
     ]
    }
   ],
   "source": [
    "# 44-upper Method\n",
    "# returns a new string with all the characters converted to uppercase.\n",
    "\n",
    "name = \"Daniel Vettori\"\n",
    "print(name.upper())"
   ]
  },
  {
   "cell_type": "code",
   "execution_count": null,
   "id": "5c9de365-7606-437b-b7f1-489e73df3adb",
   "metadata": {},
   "outputs": [],
   "source": []
  }
 ],
 "metadata": {
  "kernelspec": {
   "display_name": "Python 3 (ipykernel)",
   "language": "python",
   "name": "python3"
  },
  "language_info": {
   "codemirror_mode": {
    "name": "ipython",
    "version": 3
   },
   "file_extension": ".py",
   "mimetype": "text/x-python",
   "name": "python",
   "nbconvert_exporter": "python",
   "pygments_lexer": "ipython3",
   "version": "3.9.8"
  }
 },
 "nbformat": 4,
 "nbformat_minor": 5
}
