{
 "cells": [
  {
   "cell_type": "markdown",
   "id": "a446fc99-8c84-4df4-ab03-c84efeb35e5e",
   "metadata": {},
   "source": [
    "# class 2 \n",
    "*help\n",
    "   **function_name()**\n",
    "    help function?\n",
    "    \n",
    "    function??\n",
    "    ?function\n",
    "    ??function\n",
    "* print\n",
    "    value\n",
    "    sep\n",
    "    end\n",
    "* variable\n",
    "   *string\n",
    "       *start with **\"** and end with**\n",
    "       \"saylani AI and DS\"\n",
    "* can also use these symbols for define string\n",
    "        ' single line string\n",
    "        \" double line\n",
    "        \"\"\" multilines\n",
    "        ''' multilines\n",
    "  * number\n",
    "       int 1\n",
    "       float 1.3\n",
    "        \n",
    "     with print"
   ]
  },
  {
   "cell_type": "code",
   "execution_count": 1,
   "id": "46aff882-ab92-4afd-9ac3-1de7872df3da",
   "metadata": {
    "tags": []
   },
   "outputs": [
    {
     "name": "stdout",
     "output_type": "stream",
     "text": [
      "Help on built-in function print in module builtins:\n",
      "\n",
      "print(...)\n",
      "    print(value, ..., sep=' ', end='\\n', file=sys.stdout, flush=False)\n",
      "    \n",
      "    Prints the values to a stream, or to sys.stdout by default.\n",
      "    Optional keyword arguments:\n",
      "    file:  a file-like object (stream); defaults to the current sys.stdout.\n",
      "    sep:   string inserted between values, default a space.\n",
      "    end:   string appended after the last value, default a newline.\n",
      "    flush: whether to forcibly flush the stream.\n",
      "\n"
     ]
    }
   ],
   "source": [
    "help(print)"
   ]
  },
  {
   "cell_type": "code",
   "execution_count": null,
   "id": "e6c936f4-f30b-44a9-a91b-58450693a88e",
   "metadata": {},
   "outputs": [],
   "source": [
    "press shift + tab for temporary help\n",
    "print()"
   ]
  },
  {
   "cell_type": "code",
   "execution_count": 2,
   "id": "d4268019-3dcf-4f39-9114-68856d9040ab",
   "metadata": {
    "tags": []
   },
   "outputs": [
    {
     "data": {
      "text/plain": [
       "\u001b[1;31mDocstring:\u001b[0m\n",
       "print(value, ..., sep=' ', end='\\n', file=sys.stdout, flush=False)\n",
       "\n",
       "Prints the values to a stream, or to sys.stdout by default.\n",
       "Optional keyword arguments:\n",
       "file:  a file-like object (stream); defaults to the current sys.stdout.\n",
       "sep:   string inserted between values, default a space.\n",
       "end:   string appended after the last value, default a newline.\n",
       "flush: whether to forcibly flush the stream.\n",
       "\u001b[1;31mType:\u001b[0m      builtin_function_or_method\n"
      ]
     },
     "metadata": {},
     "output_type": "display_data"
    }
   ],
   "source": [
    "??print\n"
   ]
  },
  {
   "cell_type": "markdown",
   "id": "1ebd59e3-36c6-45d3-b474-6ccba6bd0627",
   "metadata": {},
   "source": [
    "# pass values in print function"
   ]
  },
  {
   "cell_type": "code",
   "execution_count": 3,
   "id": "c59e22a5-2e66-42e4-b7ff-8be83338bbe0",
   "metadata": {
    "tags": []
   },
   "outputs": [
    {
     "name": "stdout",
     "output_type": "stream",
     "text": [
      "A B C D\n"
     ]
    }
   ],
   "source": [
    "print(\"A\",\"B\",\"C\",\"D\")"
   ]
  },
  {
   "cell_type": "code",
   "execution_count": 4,
   "id": "7ac889fb-f3da-4976-92ff-6de910c4112f",
   "metadata": {
    "tags": []
   },
   "outputs": [
    {
     "name": "stdout",
     "output_type": "stream",
     "text": [
      "A B C D\n"
     ]
    }
   ],
   "source": [
    "print(\"A\",\"B\",\"C\",\"D\",sep=' ')"
   ]
  },
  {
   "cell_type": "code",
   "execution_count": 5,
   "id": "3dcdb74a-4eaa-4593-89d9-89e292fa044b",
   "metadata": {
    "tags": []
   },
   "outputs": [
    {
     "name": "stdout",
     "output_type": "stream",
     "text": [
      "A*B*C*D\n"
     ]
    }
   ],
   "source": [
    "print(\"A\",\"B\",\"C\",\"D\",sep='*')"
   ]
  },
  {
   "cell_type": "code",
   "execution_count": 10,
   "id": "e4ff3a78-1844-48be-a9b3-bb63736a63d1",
   "metadata": {
    "tags": []
   },
   "outputs": [
    {
     "name": "stdout",
     "output_type": "stream",
     "text": [
      "Line1>>>line 8***Line2\n",
      "Line3\n"
     ]
    }
   ],
   "source": [
    "print(\"Line1\",\"line 8\",sep='>>>', end='***')\n",
    "print(\"Line2\",sep='>>>')\n",
    "print(\"Line3\", sep='>>>')"
   ]
  },
  {
   "cell_type": "markdown",
   "id": "90079600-657e-42b9-9106-8ee16b839ee8",
   "metadata": {
    "tags": []
   },
   "source": [
    "## Variable"
   ]
  },
  {
   "cell_type": "code",
   "execution_count": null,
   "id": "ac0d0ae5-7c7a-4467-8171-e76bc576bca6",
   "metadata": {},
   "outputs": [],
   "source": [
    "variable_name = value"
   ]
  },
  {
   "cell_type": "code",
   "execution_count": 13,
   "id": "47da85f7-9a2b-4efd-81ad-2ffbbf2318d2",
   "metadata": {
    "tags": []
   },
   "outputs": [
    {
     "name": "stdout",
     "output_type": "stream",
     "text": [
      "wajeeh uddin\n",
      "wajeeh uddin\n",
      "wajeeh uddin\n"
     ]
    }
   ],
   "source": [
    "user = \"wajeeh uddin\"\n",
    "\n",
    "print(user)\n",
    "print(user)\n",
    "print(user)"
   ]
  },
  {
   "cell_type": "code",
   "execution_count": 14,
   "id": "00c5ac6e-9bbd-41e2-82a1-e6fba2b7c580",
   "metadata": {
    "tags": []
   },
   "outputs": [
    {
     "name": "stdout",
     "output_type": "stream",
     "text": [
      "welcom MR/Ms Alex Hales Haappy Birthday on your 30\n"
     ]
    }
   ],
   "source": [
    "name = \"Alex Hales\"\n",
    "age=30\n",
    "education = \"MSDS\"\n",
    "\n",
    "print(\"welcom MR/Ms\",name,\"Happy Birthday on your\", age)"
   ]
  },
  {
   "cell_type": "code",
   "execution_count": 16,
   "id": "2c3b006f-479d-4b25-9263-2ce32570d089",
   "metadata": {
    "tags": []
   },
   "outputs": [
    {
     "name": "stdout",
     "output_type": "stream",
     "text": [
      "\n",
      "Saylni Mass IT Program \n",
      "Batch 4 AI and DS\n",
      "Class days: Tuesday and Friday\n",
      "\n"
     ]
    }
   ],
   "source": [
    "card = \"\"\"\n",
    "Saylni Mass IT Program \n",
    "Batch 4 AI and DS\n",
    "Class days: Tuesday and Friday\n",
    "\"\"\"\n",
    "print(card)"
   ]
  },
  {
   "cell_type": "code",
   "execution_count": 19,
   "id": "54add434-e0da-4a03-8789-d49b36802040",
   "metadata": {
    "tags": []
   },
   "outputs": [
    {
     "name": "stdout",
     "output_type": "stream",
     "text": [
      "Welcome \"Mr/Ms Hales\"\n"
     ]
    }
   ],
   "source": [
    "message = 'Welcome \"Mr/Ms Hales\"'\n",
    "print(message)"
   ]
  },
  {
   "cell_type": "code",
   "execution_count": 20,
   "id": "32a06137-7a15-4f90-8f21-b5ffe87f9aa3",
   "metadata": {
    "tags": []
   },
   "outputs": [
    {
     "ename": "SyntaxError",
     "evalue": "invalid syntax (270211784.py, line 1)",
     "output_type": "error",
     "traceback": [
      "\u001b[1;36m  Input \u001b[1;32mIn [20]\u001b[1;36m\u001b[0m\n\u001b[1;33m    convert special characters into normal char put */* before this char\u001b[0m\n\u001b[1;37m            ^\u001b[0m\n\u001b[1;31mSyntaxError\u001b[0m\u001b[1;31m:\u001b[0m invalid syntax\n"
     ]
    }
   ],
   "source": [
    "convert special characters into normal char put *\\* before this char"
   ]
  },
  {
   "cell_type": "code",
   "execution_count": 22,
   "id": "37b4707a-cc16-422d-8f1f-aa64b911b359",
   "metadata": {
    "tags": []
   },
   "outputs": [
    {
     "name": "stdout",
     "output_type": "stream",
     "text": [
      "Welcome \"Mr/Ms Hales\"\n"
     ]
    }
   ],
   "source": [
    "message = \"Welcome \\\"Mr/Ms Hales\\\"\"\n",
    "print(message)"
   ]
  },
  {
   "cell_type": "code",
   "execution_count": 12,
   "id": "788c1329-2e02-4077-9f90-8bc74c0a51a8",
   "metadata": {
    "tags": []
   },
   "outputs": [
    {
     "name": "stdout",
     "output_type": "stream",
     "text": [
      "The Zen of Python, by Tim Peters\n",
      "\n",
      "Beautiful is better than ugly.\n",
      "Explicit is better than implicit.\n",
      "Simple is better than complex.\n",
      "Complex is better than complicated.\n",
      "Flat is better than nested.\n",
      "Sparse is better than dense.\n",
      "Readability counts.\n",
      "Special cases aren't special enough to break the rules.\n",
      "Although practicality beats purity.\n",
      "Errors should never pass silently.\n",
      "Unless explicitly silenced.\n",
      "In the face of ambiguity, refuse the temptation to guess.\n",
      "There should be one-- and preferably only one --obvious way to do it.\n",
      "Although that way may not be obvious at first unless you're Dutch.\n",
      "Now is better than never.\n",
      "Although never is often better than *right* now.\n",
      "If the implementation is hard to explain, it's a bad idea.\n",
      "If the implementation is easy to explain, it may be a good idea.\n",
      "Namespaces are one honking great idea -- let's do more of those!\n"
     ]
    }
   ],
   "source": [
    "import this"
   ]
  },
  {
   "cell_type": "markdown",
   "id": "806cf371-1736-4782-97b7-c4482b0b0819",
   "metadata": {
    "tags": []
   },
   "source": [
    "## apply some func on variables\n",
    "len() # length of vari\n",
    "id()  # varuable type\n",
    "type() # memory address of vari\n",
    "dir()# attributes and methods"
   ]
  },
  {
   "cell_type": "code",
   "execution_count": 24,
   "id": "6f044de9-deaa-4b06-ae88-c4b0c61a9336",
   "metadata": {
    "tags": []
   },
   "outputs": [
    {
     "name": "stdout",
     "output_type": "stream",
     "text": [
      "Alex Hales\n",
      "10\n",
      "2123050076208\n"
     ]
    }
   ],
   "source": [
    "print(name)\n",
    "print(len(name)) # len of vari\n",
    "print(id(name)) # memory address of vari"
   ]
  },
  {
   "cell_type": "code",
   "execution_count": 25,
   "id": "6ec610fd-fc19-4e31-9e07-09caa916a58e",
   "metadata": {
    "tags": []
   },
   "outputs": [
    {
     "name": "stdout",
     "output_type": "stream",
     "text": [
      "Alex Hales\n",
      "10\n",
      "<built-in function id>\n"
     ]
    }
   ],
   "source": [
    "print(name)\n",
    "print(len(name)) # len of vari\n",
    "print(id) # memory address of vari"
   ]
  },
  {
   "cell_type": "code",
   "execution_count": 26,
   "id": "7e3da4f8-9c7b-499e-bac6-6beede39567d",
   "metadata": {
    "tags": []
   },
   "outputs": [
    {
     "data": {
      "text/plain": [
       "['__add__',\n",
       " '__class__',\n",
       " '__contains__',\n",
       " '__delattr__',\n",
       " '__dir__',\n",
       " '__doc__',\n",
       " '__eq__',\n",
       " '__format__',\n",
       " '__ge__',\n",
       " '__getattribute__',\n",
       " '__getitem__',\n",
       " '__getnewargs__',\n",
       " '__gt__',\n",
       " '__hash__',\n",
       " '__init__',\n",
       " '__init_subclass__',\n",
       " '__iter__',\n",
       " '__le__',\n",
       " '__len__',\n",
       " '__lt__',\n",
       " '__mod__',\n",
       " '__mul__',\n",
       " '__ne__',\n",
       " '__new__',\n",
       " '__reduce__',\n",
       " '__reduce_ex__',\n",
       " '__repr__',\n",
       " '__rmod__',\n",
       " '__rmul__',\n",
       " '__setattr__',\n",
       " '__sizeof__',\n",
       " '__str__',\n",
       " '__subclasshook__',\n",
       " 'capitalize',\n",
       " 'casefold',\n",
       " 'center',\n",
       " 'count',\n",
       " 'encode',\n",
       " 'endswith',\n",
       " 'expandtabs',\n",
       " 'find',\n",
       " 'format',\n",
       " 'format_map',\n",
       " 'index',\n",
       " 'isalnum',\n",
       " 'isalpha',\n",
       " 'isascii',\n",
       " 'isdecimal',\n",
       " 'isdigit',\n",
       " 'isidentifier',\n",
       " 'islower',\n",
       " 'isnumeric',\n",
       " 'isprintable',\n",
       " 'isspace',\n",
       " 'istitle',\n",
       " 'isupper',\n",
       " 'join',\n",
       " 'ljust',\n",
       " 'lower',\n",
       " 'lstrip',\n",
       " 'maketrans',\n",
       " 'partition',\n",
       " 'removeprefix',\n",
       " 'removesuffix',\n",
       " 'replace',\n",
       " 'rfind',\n",
       " 'rindex',\n",
       " 'rjust',\n",
       " 'rpartition',\n",
       " 'rsplit',\n",
       " 'rstrip',\n",
       " 'split',\n",
       " 'splitlines',\n",
       " 'startswith',\n",
       " 'strip',\n",
       " 'swapcase',\n",
       " 'title',\n",
       " 'translate',\n",
       " 'upper',\n",
       " 'zfill']"
      ]
     },
     "execution_count": 26,
     "metadata": {},
     "output_type": "execute_result"
    }
   ],
   "source": [
    "dir(name)"
   ]
  },
  {
   "cell_type": "code",
   "execution_count": 30,
   "id": "29b8e3d6-bdc5-4ae1-8995-52523068fb71",
   "metadata": {
    "tags": []
   },
   "outputs": [
    {
     "name": "stdout",
     "output_type": "stream",
     "text": [
      "10\n",
      "2123050076208\n",
      "<class 'str'>\n",
      "['__add__', '__class__', '__contains__', '__delattr__', '__dir__', '__doc__', '__eq__', '__format__', '__ge__', '__getattribute__', '__getitem__', '__getnewargs__', '__gt__', '__hash__', '__init__', '__init_subclass__', '__iter__', '__le__', '__len__', '__lt__', '__mod__', '__mul__', '__ne__', '__new__', '__reduce__', '__reduce_ex__', '__repr__', '__rmod__', '__rmul__', '__setattr__', '__sizeof__', '__str__', '__subclasshook__', 'capitalize', 'casefold', 'center', 'count', 'encode', 'endswith', 'expandtabs', 'find', 'format', 'format_map', 'index', 'isalnum', 'isalpha', 'isascii', 'isdecimal', 'isdigit', 'isidentifier', 'islower', 'isnumeric', 'isprintable', 'isspace', 'istitle', 'isupper', 'join', 'ljust', 'lower', 'lstrip', 'maketrans', 'partition', 'removeprefix', 'removesuffix', 'replace', 'rfind', 'rindex', 'rjust', 'rpartition', 'rsplit', 'rstrip', 'split', 'splitlines', 'startswith', 'strip', 'swapcase', 'title', 'translate', 'upper', 'zfill']\n"
     ]
    }
   ],
   "source": [
    "print(len(name))\n",
    "print(id(name))\n",
    "print(type(name))\n",
    "print(dir(name))"
   ]
  },
  {
   "cell_type": "code",
   "execution_count": null,
   "id": "8c001585-b89e-4967-bd2c-3c353f830488",
   "metadata": {},
   "outputs": [],
   "source": []
  }
 ],
 "metadata": {
  "kernelspec": {
   "display_name": "Python 3 (ipykernel)",
   "language": "python",
   "name": "python3"
  },
  "language_info": {
   "codemirror_mode": {
    "name": "ipython",
    "version": 3
   },
   "file_extension": ".py",
   "mimetype": "text/x-python",
   "name": "python",
   "nbconvert_exporter": "python",
   "pygments_lexer": "ipython3",
   "version": "3.9.8"
  }
 },
 "nbformat": 4,
 "nbformat_minor": 5
}
