{
 "cells": [
  {
   "cell_type": "code",
   "execution_count": 1,
   "id": "de2c42c2-31ea-4881-bc84-53c937c4a8b7",
   "metadata": {
    "tags": []
   },
   "outputs": [
    {
     "name": "stdout",
     "output_type": "stream",
     "text": [
      "<built-in function dir>\n"
     ]
    }
   ],
   "source": [
    "print(dir) # all methods and attributes of variables of a class"
   ]
  },
  {
   "cell_type": "markdown",
   "id": "a7514411-722d-4a46-aa60-720d4bf9f5ec",
   "metadata": {},
   "source": [
    "### Text formatting/formation/Concatination"
   ]
  },
  {
   "cell_type": "code",
   "execution_count": 2,
   "id": "e762941a-b0c3-4a78-a3cf-4815792f44fc",
   "metadata": {
    "tags": []
   },
   "outputs": [
    {
     "name": "stdout",
     "output_type": "stream",
     "text": [
      "Qasim\n"
     ]
    }
   ],
   "source": [
    "student_name = \"Qasim\"\n",
    "print(student_name)"
   ]
  },
  {
   "cell_type": "code",
   "execution_count": 7,
   "id": "a8e44fbe-f458-420a-b432-bcd20855b45f",
   "metadata": {
    "tags": []
   },
   "outputs": [
    {
     "name": "stdout",
     "output_type": "stream",
     "text": [
      "5\n",
      "5\n"
     ]
    }
   ],
   "source": [
    "a=len(\"Qasim\")\n",
    "print(a)\n",
    "print(a)"
   ]
  },
  {
   "cell_type": "code",
   "execution_count": 6,
   "id": "dd4f3401-e38e-473d-a15c-f6754ad3e6e8",
   "metadata": {
    "tags": []
   },
   "outputs": [
    {
     "name": "stdout",
     "output_type": "stream",
     "text": [
      "Qasim\n",
      "None\n",
      "None\n"
     ]
    }
   ],
   "source": [
    "a=print(\"Qasim\")\n",
    "print(a)\n",
    "print(a)"
   ]
  },
  {
   "cell_type": "markdown",
   "id": "fe21b7c9-ebe6-4f9f-8932-1a99d0c3d617",
   "metadata": {},
   "source": [
    "# Concatination"
   ]
  },
  {
   "cell_type": "code",
   "execution_count": 10,
   "id": "7542e67e-2ae6-4093-a8f2-9a22a107850e",
   "metadata": {
    "tags": []
   },
   "outputs": [
    {
     "name": "stdout",
     "output_type": "stream",
     "text": [
      "Institute Name: Saylani Mass IT Training\n",
      "Student Full Name: Muhammad Qasim\n",
      "age: 30\n"
     ]
    }
   ],
   "source": [
    "# Type script\n",
    "first_name = \"Muhammad\"\n",
    "last_name = \"Qasim\"\n",
    "institute_name = \"Saylani Mass IT Training\"\n",
    "age = \"30\"\n",
    "card= \"Institute Name: \" + institute_name + \"\\nStudent Full Name: \" + first_name+ \" \" + last_name + \"\\nage: \" + str(age)\n",
    "print(card)"
   ]
  },
  {
   "cell_type": "code",
   "execution_count": 13,
   "id": "a4b571a1-a62f-460d-b41d-26ebb7b43b31",
   "metadata": {
    "tags": []
   },
   "outputs": [
    {
     "name": "stdout",
     "output_type": "stream",
     "text": [
      " Institute Name:Saylani Mass IT Training\n",
      "Student Full name:MuhammadQasim\n",
      "age:30\n",
      "\n"
     ]
    }
   ],
   "source": [
    "# format func\n",
    "first_name = \"Muhammad\"\n",
    "last_name = \"Qasim\"\n",
    "institute_name = \"Saylani Mass IT Training\"\n",
    "age = \"30\"\n",
    "\n",
    "card = \"\"\" Institute Name:{}\n",
    "Student Full name:{}{}\n",
    "age:{}\n",
    "\"\"\".format(institute_name,first_name,last_name,age)\n",
    "print(card)"
   ]
  },
  {
   "cell_type": "markdown",
   "id": "8e9f1c94-3aae-4d04-b80a-bc3a4aa727ae",
   "metadata": {
    "tags": []
   },
   "source": [
    "# with 'f'"
   ]
  },
  {
   "cell_type": "code",
   "execution_count": 16,
   "id": "cc7749f3-cf7c-42ac-b8f2-3d1db3e1eb42",
   "metadata": {
    "tags": []
   },
   "outputs": [
    {
     "name": "stdout",
     "output_type": "stream",
     "text": [
      " Institute Name:Saylani Mass IT Training\n",
      "Student Full name:MuhammadQasim\n",
      "age:30\n",
      "\n"
     ]
    }
   ],
   "source": [
    "first_name = \"Muhammad\"\n",
    "last_name = \"Qasim\"\n",
    "institute_name = \"Saylani Mass IT Training\"\n",
    "age = \"30\"\n",
    "\n",
    "card = f\"\"\" Institute Name:{institute_name}\n",
    "Student Full name:{first_name}{last_name}\n",
    "age:{age}\n",
    "\"\"\"\n",
    "print(card)"
   ]
  },
  {
   "cell_type": "code",
   "execution_count": 18,
   "id": "b3649ada-85ec-44b9-a581-2cfb2887d292",
   "metadata": {
    "tags": []
   },
   "outputs": [
    {
     "name": "stdout",
     "output_type": "stream",
     "text": [
      " Institute Name:Saylani Mass IT Training\n",
      "Student Full name:MuhammadQasim\n",
      "age:30\n",
      "\n"
     ]
    }
   ],
   "source": [
    "print(card)"
   ]
  },
  {
   "cell_type": "code",
   "execution_count": 19,
   "id": "fc85135a-ea5b-4a42-a5d2-3d6cb081e059",
   "metadata": {
    "tags": []
   },
   "outputs": [
    {
     "data": {
      "text/plain": [
       "['__add__',\n",
       " '__class__',\n",
       " '__contains__',\n",
       " '__delattr__',\n",
       " '__dir__',\n",
       " '__doc__',\n",
       " '__eq__',\n",
       " '__format__',\n",
       " '__ge__',\n",
       " '__getattribute__',\n",
       " '__getitem__',\n",
       " '__getnewargs__',\n",
       " '__gt__',\n",
       " '__hash__',\n",
       " '__init__',\n",
       " '__init_subclass__',\n",
       " '__iter__',\n",
       " '__le__',\n",
       " '__len__',\n",
       " '__lt__',\n",
       " '__mod__',\n",
       " '__mul__',\n",
       " '__ne__',\n",
       " '__new__',\n",
       " '__reduce__',\n",
       " '__reduce_ex__',\n",
       " '__repr__',\n",
       " '__rmod__',\n",
       " '__rmul__',\n",
       " '__setattr__',\n",
       " '__sizeof__',\n",
       " '__str__',\n",
       " '__subclasshook__',\n",
       " 'capitalize',\n",
       " 'casefold',\n",
       " 'center',\n",
       " 'count',\n",
       " 'encode',\n",
       " 'endswith',\n",
       " 'expandtabs',\n",
       " 'find',\n",
       " 'format',\n",
       " 'format_map',\n",
       " 'index',\n",
       " 'isalnum',\n",
       " 'isalpha',\n",
       " 'isascii',\n",
       " 'isdecimal',\n",
       " 'isdigit',\n",
       " 'isidentifier',\n",
       " 'islower',\n",
       " 'isnumeric',\n",
       " 'isprintable',\n",
       " 'isspace',\n",
       " 'istitle',\n",
       " 'isupper',\n",
       " 'join',\n",
       " 'ljust',\n",
       " 'lower',\n",
       " 'lstrip',\n",
       " 'maketrans',\n",
       " 'partition',\n",
       " 'removeprefix',\n",
       " 'removesuffix',\n",
       " 'replace',\n",
       " 'rfind',\n",
       " 'rindex',\n",
       " 'rjust',\n",
       " 'rpartition',\n",
       " 'rsplit',\n",
       " 'rstrip',\n",
       " 'split',\n",
       " 'splitlines',\n",
       " 'startswith',\n",
       " 'strip',\n",
       " 'swapcase',\n",
       " 'title',\n",
       " 'translate',\n",
       " 'upper',\n",
       " 'zfill']"
      ]
     },
     "execution_count": 19,
     "metadata": {},
     "output_type": "execute_result"
    }
   ],
   "source": [
    "dir(card)"
   ]
  },
  {
   "cell_type": "code",
   "execution_count": 25,
   "id": "3aed6528-8047-4172-964f-b51998bdf215",
   "metadata": {
    "tags": []
   },
   "outputs": [
    {
     "name": "stdout",
     "output_type": "stream",
     "text": [
      "0 capitalize\n",
      "1 casefold\n",
      "2 center\n",
      "3 count\n",
      "4 encode\n",
      "5 endswith\n",
      "6 expandtabs\n",
      "7 find\n",
      "8 format\n",
      "9 index\n",
      "10 isalnum\n",
      "11 isalpha\n",
      "12 isascii\n",
      "13 isdecimal\n",
      "14 isdigit\n",
      "15 isidentifier\n",
      "16 islower\n",
      "17 isnumeric\n",
      "18 isprintable\n",
      "19 isspace\n",
      "20 istitle\n",
      "21 isupper\n",
      "22 join\n",
      "23 ljust\n",
      "24 lower\n",
      "25 lstrip\n",
      "26 maketrans\n",
      "27 partition\n",
      "28 removeprefix\n",
      "29 removesuffix\n",
      "30 replace\n",
      "31 rfind\n",
      "32 rindex\n",
      "33 rjust\n",
      "34 rpartition\n",
      "35 rsplit\n",
      "36 rstrip\n",
      "37 split\n",
      "38 splitlines\n",
      "39 startswith\n",
      "40 strip\n",
      "41 swapcase\n",
      "42 title\n",
      "43 translate\n",
      "44 upper\n",
      "45 zfill\n"
     ]
    }
   ],
   "source": [
    "for  idx, i in enumerate([i for i in dir(card) if \"_\" not in i]):\n",
    "    print(idx,i)"
   ]
  },
  {
   "cell_type": "markdown",
   "id": "bf942b63-5f3d-41fe-adf3-46428a609dca",
   "metadata": {},
   "source": [
    "# inline(effect only where fn is used not changing real data and in [memory function changes real data]"
   ]
  },
  {
   "cell_type": "code",
   "execution_count": 21,
   "id": "319af68b-d206-43d1-8eaf-278526a326ac",
   "metadata": {
    "tags": []
   },
   "outputs": [
    {
     "name": "stdout",
     "output_type": "stream",
     "text": [
      " Institute Name:Saylani Mass IT Training\n",
      "Student Full name:MuhammadQasim\n",
      "age:30\n",
      "\n"
     ]
    },
    {
     "data": {
      "text/plain": [
       "1"
      ]
     },
     "execution_count": 21,
     "metadata": {},
     "output_type": "execute_result"
    }
   ],
   "source": [
    "print(card)\n",
    "card.count('Qasim')"
   ]
  },
  {
   "cell_type": "code",
   "execution_count": 22,
   "id": "1491affa-de0e-4818-8a65-bb9471f4d9b6",
   "metadata": {
    "tags": []
   },
   "outputs": [
    {
     "name": "stdout",
     "output_type": "stream",
     "text": [
      " Institute Name:Saylani Mass IT Training\n",
      "Student Full name:MuhammadQasim\n",
      "age:30\n",
      "\n"
     ]
    },
    {
     "data": {
      "text/plain": [
       "0"
      ]
     },
     "execution_count": 22,
     "metadata": {},
     "output_type": "execute_result"
    }
   ],
   "source": [
    "print(card)\n",
    "card.count('qasim')"
   ]
  },
  {
   "cell_type": "code",
   "execution_count": 23,
   "id": "0760392f-6683-4c79-b314-1deab5a59fc3",
   "metadata": {
    "tags": []
   },
   "outputs": [
    {
     "name": "stdout",
     "output_type": "stream",
     "text": [
      " Institute Name:Saylani Mass IT Training\n",
      "Student Full name:MuhammadQasim\n",
      "age:30\n",
      "\n"
     ]
    },
    {
     "data": {
      "text/plain": [
       "' institute name:saylani mass it training\\nstudent full name:muhammadqasim\\nage:30\\n'"
      ]
     },
     "execution_count": 23,
     "metadata": {},
     "output_type": "execute_result"
    }
   ],
   "source": [
    "print(card)\n",
    "card.casefold()"
   ]
  },
  {
   "cell_type": "code",
   "execution_count": 24,
   "id": "60f7dd44-2a4f-41aa-9f11-1b91ee627693",
   "metadata": {
    "tags": []
   },
   "outputs": [
    {
     "name": "stdout",
     "output_type": "stream",
     "text": [
      " Institute Name:Saylani Mass IT Training\n",
      "Student Full name:MuhammadQasim\n",
      "age:30\n",
      "\n"
     ]
    },
    {
     "data": {
      "text/plain": [
       "1"
      ]
     },
     "execution_count": 24,
     "metadata": {},
     "output_type": "execute_result"
    }
   ],
   "source": [
    "print(card)\n",
    "card.casefold().count(\"qasim\")"
   ]
  },
  {
   "cell_type": "markdown",
   "id": "eabdeeea-d556-451a-8486-87efc437d928",
   "metadata": {},
   "source": [
    "### encoding function"
   ]
  },
  {
   "cell_type": "code",
   "execution_count": null,
   "id": "063ae624-5d9b-45b9-8754-7efc9fa22e5d",
   "metadata": {},
   "outputs": [],
   "source": []
  }
 ],
 "metadata": {
  "kernelspec": {
   "display_name": "Python 3 (ipykernel)",
   "language": "python",
   "name": "python3"
  },
  "language_info": {
   "codemirror_mode": {
    "name": "ipython",
    "version": 3
   },
   "file_extension": ".py",
   "mimetype": "text/x-python",
   "name": "python",
   "nbconvert_exporter": "python",
   "pygments_lexer": "ipython3",
   "version": "3.9.8"
  }
 },
 "nbformat": 4,
 "nbformat_minor": 5
}
